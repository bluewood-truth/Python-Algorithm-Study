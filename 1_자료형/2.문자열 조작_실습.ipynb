{
 "cells": [
  {
   "cell_type": "code",
   "execution_count": 18,
   "metadata": {},
   "outputs": [],
   "source": [
    "import time\n",
    "\n",
    "def Test(answer, sample):\n",
    "    start = time.time()\n",
    "\n",
    "    for key,value in sample.items():\n",
    "        if answer(key) == value:\n",
    "            continue\n",
    "        else:\n",
    "            print(f\"틀린 답안: {key}\")\n",
    "            return\n",
    "\n",
    "    end = time.time()\n",
    "    exec_time = (end - start) * 1000\n",
    "    print(f\"모든 예시를 통과했습니다.\\n실행시간: {exec_time}ms\")"
   ]
  },
  {
   "cell_type": "markdown",
   "metadata": {},
   "source": [
    "### Leetcode 125 유효한 팰린드롬"
   ]
  },
  {
   "cell_type": "code",
   "execution_count": 28,
   "metadata": {},
   "outputs": [
    {
     "name": "stdout",
     "output_type": "stream",
     "text": [
      "모든 예시를 통과했습니다.\n",
      "실행시간: 0.0ms\n"
     ]
    }
   ],
   "source": [
    "# ============================================================\n",
    "# leetcode 125\n",
    "# 주어진 문자열이 팰린드롬인지 확인하라. 대소문자를 구분하지 않으며 영문자와 숫자만을 대상으로 한다.\n",
    "input_samples = {\n",
    "    \"A man, a plan, a canal: Panama\": True,\n",
    "    \"rae a car\": False\n",
    "} \n",
    "\n",
    "# 답안 작성\n",
    "def isPalindrome(s: str) -> bool:\n",
    "    first_index = 0\n",
    "    last_index = len(s) - 1\n",
    "\n",
    "    s = s.upper()\n",
    "\n",
    "    while first_index < last_index:\n",
    "\n",
    "        f_char = s[first_index]\n",
    "        while not (\n",
    "            (ord(f_char) >= 48 and ord(f_char) <= 57)\n",
    "            or (ord(f_char) >= 65 and ord(f_char) <= 90)):\n",
    "            first_index += 1\n",
    "            try:\n",
    "                f_char = s[first_index]\n",
    "            except IndexError:\n",
    "                return True\n",
    "\n",
    "        l_char = s[last_index]\n",
    "        while not (\n",
    "            (ord(l_char) >= 48 and ord(l_char) <= 57)\n",
    "            or (ord(l_char) >= 65 and ord(l_char) <= 90)):\n",
    "            last_index -= 1\n",
    "            try:\n",
    "                l_char = s[last_index]\n",
    "            except IndexError:\n",
    "                return True\n",
    "        \n",
    "        if(f_char != l_char):\n",
    "            return False\n",
    "\n",
    "        first_index += 1\n",
    "        last_index -= 1\n",
    "        if first_index == last_index:\n",
    "            break\n",
    "            \n",
    "    return True\n",
    "# ============================================================\n",
    "\n",
    "Test(isPalindrome, input_samples)\n",
    "\n",
    "# Runtime: 64 ms, faster than 26.40% of Python3 online submissions for Valid Palindrome.\n",
    "# Memory Usage: 14.4 MB, less than 54.62% of Python3 online submissions for Valid Palindrome."
   ]
  },
  {
   "cell_type": "code",
   "execution_count": 31,
   "metadata": {},
   "outputs": [
    {
     "name": "stdout",
     "output_type": "stream",
     "text": [
      "모든 예시를 통과했습니다.\n",
      "실행시간: 0.0ms\n"
     ]
    }
   ],
   "source": [
    "# ============================================================\n",
    "# leetcode 125\n",
    "# 주어진 문자열이 팰린드롬인지 확인하라. 대소문자를 구분하지 않으며 영문자와 숫자만을 대상으로 한다.\n",
    "input_samples = {\n",
    "    \"A man, a plan, a canal: Panama\": True,\n",
    "    \"rae a car\": False\n",
    "} \n",
    "\n",
    "# 답안 작성\n",
    "def isPalindrome(s: str) -> bool:\n",
    "    first_index = 0\n",
    "    last_index = len(s) - 1\n",
    "\n",
    "    s = s.upper()\n",
    "\n",
    "    while first_index < last_index:\n",
    "\n",
    "        f_char = s[first_index]\n",
    "        while not f_char.isalnum():\n",
    "            first_index += 1\n",
    "            try:\n",
    "                f_char = s[first_index]\n",
    "            except IndexError:\n",
    "                return True\n",
    "\n",
    "        l_char = s[last_index]\n",
    "        while not l_char.isalnum():\n",
    "            last_index -= 1\n",
    "            try:\n",
    "                l_char = s[last_index]\n",
    "            except IndexError:\n",
    "                return True\n",
    "        \n",
    "        if(f_char != l_char):\n",
    "            return False\n",
    "\n",
    "        first_index += 1\n",
    "        last_index -= 1\n",
    "        if first_index == last_index:\n",
    "            break\n",
    "            \n",
    "    return True\n",
    "# ============================================================\n",
    "\n",
    "Test(isPalindrome, input_samples)\n",
    "\n",
    "# Runtime: 48 ms, faster than 70.14% of Python3 online submissions for Valid Palindrome.\n",
    "# Memory Usage: 14.4 MB, less than 53.35% of Python3 online submissions for Valid Palindrome.\n",
    "\n",
    "# 영문숫자 판별을 char ASCII를 비교해서 하는 것보다 isalnum() 메소드를 이용한 게 속도가 훨씬 빠름."
   ]
  },
  {
   "cell_type": "code",
   "execution_count": 32,
   "metadata": {},
   "outputs": [
    {
     "name": "stdout",
     "output_type": "stream",
     "text": [
      "모든 예시를 통과했습니다.\n",
      "실행시간: 0.0ms\n"
     ]
    }
   ],
   "source": [
    "# ============================================================\n",
    "# leetcode 125\n",
    "# 주어진 문자열이 팰린드롬인지 확인하라. 대소문자를 구분하지 않으며 영문자와 숫자만을 대상으로 한다.\n",
    "input_samples = {\n",
    "    \"A man, a plan, a canal: Panama\": True,\n",
    "    \"rae a car\": False\n",
    "} \n",
    "\n",
    "import re\n",
    "\n",
    "# 답안 작성\n",
    "def isPalindrome(s: str) -> bool:\n",
    "    s = s.lower()\n",
    "    s = re.sub('[^a-z0-9]','', s)\n",
    "    \n",
    "    return s == s[::-1]\n",
    "# ============================================================\n",
    "\n",
    "Test(isPalindrome, input_samples)\n",
    "\n",
    "# Runtime: 36 ms, faster than 95.48% of Python3 online submissions for Valid Palindrome.\n",
    "# Memory Usage: 15.3 MB, less than 23.19% of Python3 online submissions for Valid Palindrome.\n",
    "\n",
    "# 책을 참조한 가장 빠른 솔루션.\n",
    "# 정규식도 빠르다!"
   ]
  },
  {
   "cell_type": "code",
   "execution_count": 34,
   "metadata": {},
   "outputs": [],
   "source": [
    "a = \"asdasd\"\n",
    "a.r"
   ]
  }
 ],
 "metadata": {
  "kernelspec": {
   "display_name": "Python 3",
   "language": "python",
   "name": "python3"
  },
  "language_info": {
   "codemirror_mode": {
    "name": "ipython",
    "version": 3
   },
   "file_extension": ".py",
   "mimetype": "text/x-python",
   "name": "python",
   "nbconvert_exporter": "python",
   "pygments_lexer": "ipython3",
   "version": "3.8.3"
  }
 },
 "nbformat": 4,
 "nbformat_minor": 4
}
