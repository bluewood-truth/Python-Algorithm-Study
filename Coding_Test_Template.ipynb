{
 "cells": [
  {
   "cell_type": "code",
   "execution_count": 85,
   "metadata": {},
   "outputs": [
    {
     "name": "stdout",
     "output_type": "stream",
     "text": [
      "실행시간: 0.0ms\n"
     ]
    }
   ],
   "source": [
    "import time\n",
    "\n",
    "def Test(answer, sample):\n",
    "    start = time.time()\n",
    "\n",
    "    for key,value in sample.items():\n",
    "        if answer(key) == value:\n",
    "            \n",
    "            continue\n",
    "        else:\n",
    "            print(f\"틀린 답안: {key}\")\n",
    "            return\n",
    "\n",
    "    end = time.time()\n",
    "    exec_time = (end - start) * 1000\n",
    "    print(f\"실행시간: {exec_time}ms\")\n",
    "\n",
    "# ============================================================\n",
    "# 인풋:정답으로 구성된 딕셔너리\n",
    "input_samples = {\n",
    "    \n",
    "} \n",
    "\n",
    "# 답안 작성\n",
    "def Solution(arg):\n",
    "    pass\n",
    "# ============================================================\n",
    "\n",
    "Test(Solution, input_samples)"
   ]
  },
  {
   "cell_type": "code",
   "execution_count": null,
   "metadata": {},
   "outputs": [],
   "source": []
  }
 ],
 "metadata": {
  "kernelspec": {
   "display_name": "Python 3",
   "language": "python",
   "name": "python3"
  },
  "language_info": {
   "codemirror_mode": {
    "name": "ipython",
    "version": 3
   },
   "file_extension": ".py",
   "mimetype": "text/x-python",
   "name": "python",
   "nbconvert_exporter": "python",
   "pygments_lexer": "ipython3",
   "version": "3.8.3"
  }
 },
 "nbformat": 4,
 "nbformat_minor": 4
}
